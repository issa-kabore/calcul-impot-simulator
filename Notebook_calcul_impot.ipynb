{
 "cells": [
  {
   "cell_type": "markdown",
   "metadata": {},
   "source": [
    "# Calculette Impôts - API Web"
   ]
  },
  {
   "cell_type": "markdown",
   "metadata": {},
   "source": [
    "Ce repository contient plusieurs applications basées sur la calculatrice M de l'impôt sur le revenu."
   ]
  },
  {
   "cell_type": "code",
   "execution_count": 2,
   "metadata": {},
   "outputs": [],
   "source": [
    "# Iportation des biblio\n",
    "import numpy as np\n",
    "#import codecs\n",
    "import math\n",
    "import configparser # Permet de parser le fichier de paramètres #pip install configparser"
   ]
  },
  {
   "cell_type": "markdown",
   "metadata": {},
   "source": [
    "Ce projet en python est consacré pour le calcul de l'impot. Comme pour beaucoup, il s'agit d'une tache difficile à comprendre. Ce fut mon cas.\n",
    "J'ai eu la curiosité de décortiquer tout l processus de calcul des impots."
   ]
  },
  {
   "cell_type": "markdown",
   "metadata": {},
   "source": [
    "Commencons par recupérer le barème des impots, le taux d'imposition ainsi que toutes les autres inforations nécessaires"
   ]
  },
  {
   "cell_type": "markdown",
   "metadata": {},
   "source": [
    "### Le barème progressif de l'impôt sur le revenu 2021\n",
    "Le barème progressif de l'impôt sur le revenu 2021 est utilisé à partir du 1er janvier 2021 pour calculer l'impôt sur les revenus perçus en 2021. Les tranches du barème ont été revalorisées de 0,2% par rapport au barème 2020. Sont donc imposables en 2021 les personnes qui déclarent plus de 10.084 euros de revenus sur l'année (au lieu de 10 064 euros l'an passé).\n",
    "\n",
    "Selon le barème 2021, le taux d'imposition applicable aux revenus de 2021 est le suivant :\n",
    "\n",
    "* Fraction du revenu imposable* inférieure à 10.084 euros : 0%\n",
    "* Fraction du revenu imposable* de 10.085 euros à 25.710 euros : 11%\n",
    "* Fraction du revenu imposable* de 25.711 euros à 73.516 euros : 30%\n",
    "* Fraction du revenu imposable* de 73.517 euros à 158.122 euros : 41%\n",
    "* Fraction du revenu imposable* supérieure à 158.122 euros : 45%"
   ]
  },
  {
   "cell_type": "code",
   "execution_count": 109,
   "metadata": {},
   "outputs": [],
   "source": [
    "# -----------------------------------------------------------------------------------------------------------\n",
    "# Fonction for configuration file\n",
    "# -----------------------------------------------------------------------------------------------------------\n",
    "def recup_impots_param(config_file='impot.config'):\n",
    "    config = configparser.RawConfigParser() # On créé un nouvel objet \"config\"\n",
    "    config.read(config_file) # On lit le fichier de paramètres\n",
    "    # On récupère les valeurs des différents paramètres\n",
    "    # Récupération basique dans des variables\n",
    "    annee = config.get(section='DEFAULT',option='annee')\n",
    "    tranches_impots = config.get(section='Bareme des impots',option='tranches').split(',')\n",
    "    for i in range(len(tranches_impots)):\n",
    "        tranches_impots[i] =(int(tranches_impots[i]))\n",
    "            \n",
    "    taux_imposition = config.get(section='Bareme des impots',option='taux_imposition').split(',')\n",
    "    for i in range(len(taux_imposition)):\n",
    "        taux_imposition[i] =(float(taux_imposition[i]))\n",
    "\n",
    "\n",
    "    plafond_decote = config.get(section='Reduction',option='plafond_decote').split(',')\n",
    "    for i in range(len(plafond_decote)):\n",
    "        plafond_decote[i] =(float(plafond_decote[i]))\n",
    "\n",
    "    param_decote = config.get(section='Reduction',option='param_decote').split(',')\n",
    "    for i in range(len(param_decote)):\n",
    "        param_decote[i] =(float(param_decote[i]))\n",
    "\n",
    "    ABATTEMENT = config.get(section='Reduction',option='ABATTEMENT').split(',')\n",
    "    for i in range(len(ABATTEMENT)):\n",
    "        ABATTEMENT[i] =(float(ABATTEMENT[i]))\n",
    "\n",
    "    coef_decote = config.getfloat(section='Reduction',option='coef_decote')\n",
    "    PLAFOND_QF_DEMI_PART = config.getfloat(section='Reduction',option='PLAFOND_QF_DEMI_PART')\n",
    "    PLAFOND_REVENUS_CELIBATAIRE_POUR_REDUCTION = config.getfloat(section='Reduction',option='PLAFOND_REVENUS_CELIBATAIRE_POUR_REDUCTION')\n",
    "    PLAFOND_REVENUS_COUPLE_POUR_REDUCTION = config.getfloat(section='Reduction',option='PLAFOND_REVENUS_COUPLE_POUR_REDUCTION')\n",
    "    VALEUR_REDUC_DEMI_PART = config.getfloat(section='Reduction',option='VALEUR_REDUC_DEMI_PART')\n",
    "\n",
    "    return annee, tranches_impots, taux_imposition, plafond_decote, param_decote, coef_decote, ABATTEMENT, \\\n",
    "        PLAFOND_QF_DEMI_PART, PLAFOND_REVENUS_CELIBATAIRE_POUR_REDUCTION, PLAFOND_REVENUS_COUPLE_POUR_REDUCTION, VALEUR_REDUC_DEMI_PART\n",
    "        \n"
   ]
  },
  {
   "cell_type": "code",
   "execution_count": 118,
   "metadata": {},
   "outputs": [
    {
     "data": {
      "text/plain": [
       "1570.0"
      ]
     },
     "execution_count": 118,
     "metadata": {},
     "output_type": "execute_result"
    }
   ],
   "source": [
    "annee, tranches_impots, taux_imposition, plafond_decote, param_decote, coef_decote, ABATTEMENT, \\\n",
    "        PLAFOND_QF_DEMI_PART, PLAFOND_REVENUS_CELIBATAIRE_POUR_REDUCTION,\\\n",
    "             PLAFOND_REVENUS_COUPLE_POUR_REDUCTION, VALEUR_REDUC_DEMI_PART = recup_impots_param()\n",
    "PLAFOND_QF_DEMI_PART\n"
   ]
  },
  {
   "cell_type": "markdown",
   "metadata": {},
   "source": [
    "![title](https://tahe.developpez.com/tutoriels-cours/python-flask-2020/images/image-78.png)"
   ]
  },
  {
   "cell_type": "markdown",
   "metadata": {},
   "source": [
    "En entrée, l'algorithme prendra 3 informations\n",
    "\n",
    "* La sitution famillial  \n",
    "    choisir : 1. Celibataire, Divorcé, Veuf 2. Couple 3. Autre\n",
    "\n",
    "* Le nombre d\"enfants à charges   \n",
    "\n",
    "* Le montant des revenu imposable (en euro)"
   ]
  },
  {
   "cell_type": "code",
   "execution_count": 95,
   "metadata": {},
   "outputs": [],
   "source": [
    "def presentation():\n",
    "    \"\"\"\n",
    "    Fonction de saisie\n",
    "    \"\"\"\n",
    "    # marié : oui, non\n",
    "    # enfants : nombre d'enfants\n",
    "    # salaire : salaire annuel\n",
    "    #print('-- DEBUT de saisie')\n",
    "    marié = input('Etes-vous marié ? ')\n",
    "    nb_enfant = int(input(\"Combien d'enfants avez-vous ?\" ))\n",
    "    assert(nb_enfant >= 0)\n",
    "    revenu = float(input('\\nVeuiller saisir le montant annuel net des salaires: '))\n",
    "    assert(revenu >= 0)\n",
    "\n",
    "    marié = marié.strip().lower()\n",
    "    if (marié == \"oui\") | (marié == \"o\") | (marié == \"y\"):\n",
    "        nb_parts = nb_enfant*0.5 + 2\n",
    "        statut_familial='oui'\n",
    "    else:\n",
    "        nb_parts = nb_enfant*0.5 + 1\n",
    "        statut_familial='non'\n",
    "\n",
    "    # 1 part par enfant à partir du 3ième\n",
    "    if nb_enfant >= 3:\n",
    "        # une demi-part de + pour chaque enfant à partir du 3ième\n",
    "        nb_parts += 0.5 * (nb_enfant - 2)\n",
    "    print(\"==> Marié : {} \".format(statut_familial))\n",
    "    print(\"==> Nb enfants : {} \".format(nb_enfant))\n",
    "    print(\"==> Salaire annuel : {} \".format(revenu))\n",
    "    print('==> Le nombre de part(s) fiscale est : {0:2.2f}'.format(nb_parts))\n",
    "    #print('==> Saisie TERMINEE.')\n",
    "    return statut_familial, nb_enfant,nb_parts, revenu\n",
    "\n",
    "\n"
   ]
  },
  {
   "cell_type": "code",
   "execution_count": null,
   "metadata": {},
   "outputs": [],
   "source": [
    "\n"
   ]
  },
  {
   "cell_type": "markdown",
   "metadata": {},
   "source": [
    "En contrepartie, pour le calcul de l’impôt dû, le revenu imposable est divisé par le nombre de parts du foyer fiscal à savoir :\n",
    "* une personne célibataire : 1 part ;\n",
    "* un couple marié ou pacsé : 2 parts ;\n",
    "* le 1er enfant à charge : 0,5 parts ;\n",
    "* le 2ème enfant à charge : 0,5 parts ;\n",
    "* le 3ème enfant à charge : 1 part ;\n",
    "* chaque enfant au-delà du 3ème enfant : 1 part."
   ]
  },
  {
   "cell_type": "code",
   "execution_count": 98,
   "metadata": {},
   "outputs": [],
   "source": [
    " # revenu imposable\n",
    "\n",
    "# revenu_imposable = salaireAnnuel - abattement\n",
    "# l'abattement a un min et un max\n",
    "# ----------------------------------------\n",
    "def get_revenu_imposable(salaire: int) -> int:\n",
    "    # abattement de 10% du salaire\n",
    "    abattement = 0.1 * salaire\n",
    "    # cet abattement ne peut dépasser ABATTEMENT__MAX = ABATTEMENT__MAX[1]\n",
    "    if abattement > ABATTEMENT[1] :\n",
    "        abattement = ABATTEMENT[1]\n",
    "\n",
    "    # l'abattement ne peut être inférieur à ABATTEMENT_MIN = ABATTEMENT__MAX(0)\n",
    "    if abattement < ABATTEMENT[0]:\n",
    "        abattement = ABATTEMENT[0]\n",
    "\n",
    "    # revenu imposable\n",
    "    revenu_imposable = salaire - abattement\n",
    "    # quotient familial\n",
    "    quotient = revenu_imposable / nb_parts\n",
    "    print('==> Revenu imposable avec déduction 10 % ou frais réels = {0:2.2f} Euros'.format(revenu_imposable))\n",
    "    print('==> Quotient familial = {0:2.2f} Euros'.format(quotient))\n",
    "    return revenu_imposable, quotient\n",
    "\n"
   ]
  },
  {
   "cell_type": "code",
   "execution_count": 99,
   "metadata": {},
   "outputs": [
    {
     "name": "stdout",
     "output_type": "stream",
     "text": [
      "-- Calcul de l'impot de l'année 2021 \n",
      "==> Marié : non \n",
      "==> Nb enfants : 0 \n",
      "==> Salaire annuel : 30000.0 \n",
      "==> Le nombre de part(s) fiscale est : 1.00\n",
      "==> Revenu imposable avec déduction 10 % ou frais réels = 27000.00 Euros\n",
      "==> Quotient familial = 27000.00 Euros\n"
     ]
    }
   ],
   "source": [
    "print(\"-- Calcul de l'impot de l'année {} \".format(annee))\n",
    "marié, nb_enfant, nb_parts, revenu = presentation()\n",
    "revenu_imposable, qf = get_revenu_imposable(revenu)"
   ]
  },
  {
   "cell_type": "code",
   "execution_count": 155,
   "metadata": {},
   "outputs": [
    {
     "name": "stdout",
     "output_type": "stream",
     "text": [
      "-- Application du barème ...\n",
      "Impot sur la tranche 1 (0.0%) = 0.0 Euros\n",
      "Impot sur la tranche 2 (11.0%) = 1718.86 Euros\n",
      "Impot sur la tranche 3 (30.0%) = 3005.8599999999997 Euros\n",
      "\n",
      "- Avec un taux d'imposition de 30.0% \n",
      "- Impot sur les revenues de l'année est : 3005.8599999999997 Euros\n"
     ]
    }
   ],
   "source": [
    "\n",
    "def calcul_impôt(income, tranches_impots, taux_imposition):\n",
    "    difference = np.diff(tranches_impots)\n",
    "    state = True\n",
    "    taxe = 0\n",
    "    i = 0\n",
    "    print(\"-- Application du barème ...\")\n",
    "    while state:\n",
    "        if income < tranches_impots[i + 1]:\n",
    "            taxe += (income -\n",
    "                             tranches_impots[i]) * taux_imposition[i]\n",
    "            state = False\n",
    "        else:\n",
    "            taxe += difference[i] * taux_imposition[i]\n",
    "\n",
    "            state = True\n",
    "\n",
    "        print('Impot sur la tranche {} ({}%) = {} Euros'.format(i+1, (taux_imposition[i]*100), taxe))\n",
    "        i = i + 1\n",
    "    taux = taux_imposition[i-1]*100  #Le taux marginal d'imposition (TMI)\n",
    "    return taxe,taux\n",
    "\n",
    "impot_brute, TMI = calcul_impôt(revenu,tranches_impots, taux_imposition)\n",
    "\n",
    "print(\"\\n- Avec un taux d'imposition de {}% \\n- Impot sur les revenues de l'année est : {} Euros\".format(TMI,impot_brute))\n"
   ]
  },
  {
   "cell_type": "markdown",
   "metadata": {},
   "source": [
    "### Verification d'une possibilité de réduction d\"impot sur le revenu:"
   ]
  },
  {
   "cell_type": "markdown",
   "metadata": {},
   "source": [
    "\n",
    "![title](https://tahe.developpez.com/tutoriels-cours/python-flask-2020/images/image-80.png)"
   ]
  },
  {
   "cell_type": "code",
   "execution_count": 107,
   "metadata": {},
   "outputs": [
    {
     "name": "stdout",
     "output_type": "stream",
     "text": [
      "\n",
      "-- Verification pour une possibilité de réduction d\"impot sur le revenu ...\n",
      "==> Décote : 0.00 Euros\n"
     ]
    }
   ],
   "source": [
    "print('\\n-- Verification pour une possibilité de réduction d\"impot sur le revenu ...')\n",
    "\n",
    "# calcule une décôte éventuelle\n",
    "def get_décôte(marié: str, salaire: int, impots: int) -> int:\n",
    "    # au départ, une décôte nulle\n",
    "    décôte = 0\n",
    "    # montant maximal d'impôt pour avoir la décôte\n",
    "    plafond_impôt_pour_décôte = plafond_decote[1] if marié == \"oui\" else plafond_decote[0]\n",
    "    if impots < plafond_impôt_pour_décôte:\n",
    "        # montant maximal de la décôte\n",
    "        plafond_décôte = param_decote[1] if marié == \"oui\" else param_decote[1]\n",
    "        # décôte théorique\n",
    "        décôte = plafond_décôte - coef_decote * impots\n",
    "        # la décôte ne peut dépasser le montant de l'impôt\n",
    "        if décôte > impots:\n",
    "            décôte = impots\n",
    "\n",
    "        # pas de décôte <0\n",
    "        if décôte < 0:\n",
    "            décôte = 0\n",
    "    print('==> Décote : {0:2.2f} Euros'.format(décôte))\n",
    "    # résultat\n",
    "    return décôte\n",
    "    \n",
    "# calcul d'une éventuelle décôte    \n",
    "decote = get_décôte(marié, revenu_imposable, impot_brute)"
   ]
  },
  {
   "cell_type": "code",
   "execution_count": 114,
   "metadata": {},
   "outputs": [
    {
     "data": {
      "text/plain": [
       "3005.8599999999997"
      ]
     },
     "execution_count": 114,
     "metadata": {},
     "output_type": "execute_result"
    }
   ],
   "source": [
    "impot_total1 = impot_brute - decote\n",
    "impot_total1"
   ]
  },
  {
   "cell_type": "code",
   "execution_count": 126,
   "metadata": {},
   "outputs": [
    {
     "name": "stdout",
     "output_type": "stream",
     "text": [
      "==> Reduction de l\"impot sous condition de RFR : 0.00 Euros\n"
     ]
    }
   ],
   "source": [
    "def calcul_réduction(marié: str, salaire: int, enfants: int, impots: int) -> int:\n",
    "    \"\"\"la réduction d’impôt sous condition de revenu fiscal de référence (RFR)\"\"\"\n",
    "    # le plafond des revenus pour avoir droit à la réduction de 20%\n",
    "    plafond_revenu_pour_réduction = PLAFOND_REVENUS_COUPLE_POUR_REDUCTION if marié == \"oui\" else PLAFOND_REVENUS_CELIBATAIRE_POUR_REDUCTION\n",
    "    plafond_revenu_pour_réduction += enfants * VALEUR_REDUC_DEMI_PART\n",
    "    if enfants > 2:\n",
    "        plafond_revenu_pour_réduction += (enfants - 2) * VALEUR_REDUC_DEMI_PART\n",
    "\n",
    "    # réduction\n",
    "    réduction = 0\n",
    "    if revenu_imposable < plafond_revenu_pour_réduction:\n",
    "        # réduction de 20%\n",
    "        réduction = 0.2 * impots\n",
    "    print('==> Reduction de l\"impot sous condition de RFR : {0:2.2f} Euros'.format(réduction))\n",
    "    # résultat\n",
    "    return réduction\n",
    "\n",
    "# calcul d'une éventuelle réduction d'impôts\n",
    "réduction = calcul_réduction(marié, revenu_imposable, nb_enfant, impot_total1)"
   ]
  },
  {
   "cell_type": "code",
   "execution_count": 127,
   "metadata": {},
   "outputs": [
    {
     "data": {
      "text/plain": [
       "3005.8599999999997"
      ]
     },
     "execution_count": 127,
     "metadata": {},
     "output_type": "execute_result"
    }
   ],
   "source": [
    "impot_total = impot_total1 - réduction\n",
    "impot_total"
   ]
  },
  {
   "cell_type": "code",
   "execution_count": 141,
   "metadata": {},
   "outputs": [
    {
     "name": "stdout",
     "output_type": "stream",
     "text": [
      "\n",
      "TOTAL D\"IMPOSITION NETTE        >> 3005.86 Euros <<\n",
      "\n",
      "TAUX  D'IMPOSITION PERSONNALISé >> 11.13 % <<\n",
      "\n"
     ]
    }
   ],
   "source": [
    "print('\\nTOTAL D\"IMPOSITION NETTE        >> {0:2.2f} Euros <<\\n'.format(impot_total))\n",
    "print(\"TAUX  D'IMPOSITION PERSONNALISé >> {0:2.2f} % <<\\n\".format(impot_total * 100 / revenu_imposable))"
   ]
  },
  {
   "cell_type": "markdown",
   "metadata": {},
   "source": [
    "### Script principal "
   ]
  },
  {
   "cell_type": "code",
   "execution_count": 148,
   "metadata": {},
   "outputs": [
    {
     "name": "stdout",
     "output_type": "stream",
     "text": [
      " * Serving Flask app '__main__' (lazy loading)\n",
      " * Environment: production\n",
      "\u001b[31m   WARNING: This is a development server. Do not use it in a production deployment.\u001b[0m\n",
      "\u001b[2m   Use a production WSGI server instead.\u001b[0m\n",
      " * Debug mode: on\n"
     ]
    },
    {
     "name": "stderr",
     "output_type": "stream",
     "text": [
      " * Restarting with stat\n"
     ]
    },
    {
     "ename": "SystemExit",
     "evalue": "1",
     "output_type": "error",
     "traceback": [
      "An exception has occurred, use %tb to see the full traceback.\n",
      "\u001b[1;31mSystemExit\u001b[0m\u001b[1;31m:\u001b[0m 1\n"
     ]
    },
    {
     "name": "stderr",
     "output_type": "stream",
     "text": [
      "C:\\Users\\a844026\\Anaconda3\\lib\\site-packages\\IPython\\core\\interactiveshell.py:3452: UserWarning: To exit: use 'exit', 'quit', or Ctrl-D.\n",
      "  warn(\"To exit: use 'exit', 'quit', or Ctrl-D.\", stacklevel=1)\n"
     ]
    }
   ],
   "source": [
    "from flask import Flask, redirect, url_for, request,render_template  # pip install flask\n",
    "app = Flask(__name__)\n",
    "\n",
    "@app.route('/')\n",
    "def home():\n",
    "    return render_template('home_page.html')\n",
    "    \n",
    "if __name__ == \"__main__\":\n",
    "    app.run(debug=True)\n"
   ]
  },
  {
   "cell_type": "code",
   "execution_count": 149,
   "metadata": {},
   "outputs": [],
   "source": [
    "# app/__init__.py\n",
    "\n",
    "from flask import Flask, render_template\n",
    "\n",
    "def create_app():\n",
    "    app = Flask(__name__)\n",
    "\n",
    "    @app.route('/')\n",
    "    def homepage():\n",
    "        return render_template('homepage.html')\n",
    "\n",
    "    @app.route('/about/')\n",
    "    def about():\n",
    "        return render_template('about.html')\n",
    "\n",
    "    @app.route('/hello/')\n",
    "    @app.route('/hello/<name>')\n",
    "    def hello(name='diallo'):\n",
    "        return render_template('hello.html', name=name)\n",
    "\n",
    "    return app"
   ]
  },
  {
   "cell_type": "code",
   "execution_count": 147,
   "metadata": {},
   "outputs": [
    {
     "name": "stdout",
     "output_type": "stream",
     "text": [
      " * Serving Flask app '__main__' (lazy loading)\n",
      " * Environment: production\n",
      "\u001b[31m   WARNING: This is a development server. Do not use it in a production deployment.\u001b[0m\n",
      "\u001b[2m   Use a production WSGI server instead.\u001b[0m\n",
      " * Debug mode: on\n"
     ]
    },
    {
     "name": "stderr",
     "output_type": "stream",
     "text": [
      " * Restarting with stat\n"
     ]
    },
    {
     "ename": "SystemExit",
     "evalue": "1",
     "output_type": "error",
     "traceback": [
      "An exception has occurred, use %tb to see the full traceback.\n",
      "\u001b[1;31mSystemExit\u001b[0m\u001b[1;31m:\u001b[0m 1\n"
     ]
    },
    {
     "name": "stderr",
     "output_type": "stream",
     "text": [
      "C:\\Users\\a844026\\Anaconda3\\lib\\site-packages\\IPython\\core\\interactiveshell.py:3452: UserWarning: To exit: use 'exit', 'quit', or Ctrl-D.\n",
      "  warn(\"To exit: use 'exit', 'quit', or Ctrl-D.\", stacklevel=1)\n"
     ]
    }
   ],
   "source": [
    "@app.route('/')\n",
    "def home():\n",
    "    return render_template('index.html')\n",
    "\n",
    "@app.route('/predict',methods=['POST'])\n",
    "def predict():\n",
    "\n",
    "    int_features = [int(x) for x in request.form.values()]\n",
    "    final_features = [np.array(int_features)]\n",
    "    \n",
    "    return render_template('index.html', prediction_text='Sales should be $ {}'.format(10))\n",
    "\n",
    "@app.route('/results',methods=['POST'])\n",
    "def results():\n",
    "    data = request.get_json(force=True)\n",
    "    return jsonify(output)\n",
    "\n",
    "if __name__ == \"__main__\":\n",
    "    app.run(debug=True)"
   ]
  }
 ],
 "metadata": {
  "interpreter": {
   "hash": "7bb378b09d9a6ee76d26e27b3d9b3c1cf661ed4b635732dc1d677499e47146ab"
  },
  "kernelspec": {
   "display_name": "Python 3.9.7 64-bit ('base': conda)",
   "language": "python",
   "name": "python3"
  },
  "language_info": {
   "codemirror_mode": {
    "name": "ipython",
    "version": 3
   },
   "file_extension": ".py",
   "mimetype": "text/x-python",
   "name": "python",
   "nbconvert_exporter": "python",
   "pygments_lexer": "ipython3",
   "version": "3.9.7"
  },
  "orig_nbformat": 4
 },
 "nbformat": 4,
 "nbformat_minor": 2
}
